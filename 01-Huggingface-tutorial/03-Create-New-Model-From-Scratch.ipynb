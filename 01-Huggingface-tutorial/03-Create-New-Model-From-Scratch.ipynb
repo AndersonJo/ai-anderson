{
 "cells": [
  {
   "cell_type": "code",
   "execution_count": 1,
   "id": "db2c42ee",
   "metadata": {},
   "outputs": [
    {
     "name": "stdout",
     "output_type": "stream",
     "text": [
      "CUDA: True GPU: GeForce GTX 1070\n"
     ]
    }
   ],
   "source": [
    "import os\n",
    "import numpy as np\n",
    "import pandas as pd\n",
    "import torch\n",
    "import requests\n",
    "\n",
    "from pathlib import Path\n",
    "from tempfile import gettempdir\n",
    "\n",
    "print('CUDA:', torch.cuda.is_available(), 'GPU:', torch.cuda.get_device_name(0))"
   ]
  },
  {
   "cell_type": "markdown",
   "id": "8e11fc89",
   "metadata": {},
   "source": [
    "# Data"
   ]
  },
  {
   "cell_type": "code",
   "execution_count": 2,
   "id": "bb81fd3b",
   "metadata": {},
   "outputs": [],
   "source": [
    "file_url = 'https://cdn-datasets.huggingface.co/EsperBERTo/data/oscar.eo.txt'\n",
    "file_path = Path(gettempdir()) / 'oscar.eo.txt'\n",
    "model_path = Path(gettempdir()) / 'EsperBERTo'\n",
    "\n",
    "if not file_path.exists():\n",
    "    with open(file_path, 'wt') as f:\n",
    "        r = requests.get(file_url, allow_redirects=True)\n",
    "        f.write(r.content.decode(encoding='utf-8'))\n",
    "        \n",
    "if not model_path.exists():\n",
    "    os.makedirs(model_path)"
   ]
  },
  {
   "cell_type": "markdown",
   "id": "70355afe",
   "metadata": {},
   "source": [
    "# Tokenizer\n",
    "\n",
    "```\n",
    "# vocab.json\n",
    "{\n",
    "    \"<s>\": 0,\n",
    "    \"<pad>\": 1,\n",
    "    \"</s>\": 2,\n",
    "    \"<unk>\": 3,\n",
    "    \"<mask>\": 4,\n",
    "    \"!\": 5,\n",
    "    \"\\\"\": 6,\n",
    "    \"#\": 7,\n",
    "    \"$\": 8,\n",
    "    \"%\": 9,\n",
    "    \"&\": 10,\n",
    "    \"'\": 11,\n",
    "    \"(\": 12,\n",
    "    \")\": 13,\n",
    "    #\n",
    "}\n",
    " \n",
    "# merges.txt\n",
    "l a\n",
    "Ġ k\n",
    "o n\n",
    "Ġ la\n",
    "t a\n",
    "Ġ e\n",
    "Ġ d\n",
    "Ġ p\n",
    "#\n",
    "```"
   ]
  },
  {
   "cell_type": "code",
   "execution_count": 3,
   "id": "fbf7372a",
   "metadata": {},
   "outputs": [
    {
     "name": "stdout",
     "output_type": "stream",
     "text": [
      "TRAIN\n",
      "CPU times: user 5min 1s, sys: 9.37 s, total: 5min 11s\n",
      "Wall time: 1min\n"
     ]
    }
   ],
   "source": [
    "%%time\n",
    "\n",
    "from tokenizers import ByteLevelBPETokenizer\n",
    "\n",
    "vocab_path = Path(gettempdir()) / 'vocab.json'\n",
    "merge_path = Path(gettempdir()) / 'merges.txt'\n",
    "\n",
    "if vocab_path.exists() and merge_path.exists():\n",
    "    tokenizer = ByteLevelBPETokenizer.from_file(vocab_filename=str(vocab_path),\n",
    "                                                merges_filename=str(merge_path))\n",
    "else:\n",
    "    print('TRAIN')\n",
    "    tokenizer = ByteLevelBPETokenizer()\n",
    "    tokenizer.train(files=[str(file_path)],\n",
    "                    vocab_size=52_000,\n",
    "                    min_frequency=2,\n",
    "                    special_tokens=[\"<s>\", \"<pad>\", \"</s>\", \"<unk>\", \"<mask>\"])\n",
    "    tokenizer.save_model(str(model_path))"
   ]
  },
  {
   "cell_type": "code",
   "execution_count": 4,
   "id": "2ba03f64",
   "metadata": {},
   "outputs": [],
   "source": [
    "from tokenizers.processors import BertProcessing\n",
    "\n",
    "tokenizer._tokenizer.post_processor = BertProcessing(\n",
    "    (\"</s>\", tokenizer.token_to_id(\"</s>\")),\n",
    "    (\"<s>\", tokenizer.token_to_id(\"<s>\")),\n",
    ")\n",
    "tokenizer.enable_truncation(max_length=512)"
   ]
  },
  {
   "cell_type": "code",
   "execution_count": null,
   "id": "64e14c47",
   "metadata": {},
   "outputs": [],
   "source": []
  }
 ],
 "metadata": {
  "kernelspec": {
   "display_name": "Python 3",
   "language": "python",
   "name": "python3"
  },
  "language_info": {
   "codemirror_mode": {
    "name": "ipython",
    "version": 3
   },
   "file_extension": ".py",
   "mimetype": "text/x-python",
   "name": "python",
   "nbconvert_exporter": "python",
   "pygments_lexer": "ipython3",
   "version": "3.8.5"
  },
  "toc": {
   "base_numbering": 1,
   "nav_menu": {},
   "number_sections": true,
   "sideBar": true,
   "skip_h1_title": false,
   "title_cell": "Table of Contents",
   "title_sidebar": "Contents",
   "toc_cell": false,
   "toc_position": {},
   "toc_section_display": true,
   "toc_window_display": false
  },
  "varInspector": {
   "cols": {
    "lenName": 16,
    "lenType": 16,
    "lenVar": 40
   },
   "kernels_config": {
    "python": {
     "delete_cmd_postfix": "",
     "delete_cmd_prefix": "del ",
     "library": "var_list.py",
     "varRefreshCmd": "print(var_dic_list())"
    },
    "r": {
     "delete_cmd_postfix": ") ",
     "delete_cmd_prefix": "rm(",
     "library": "var_list.r",
     "varRefreshCmd": "cat(var_dic_list()) "
    }
   },
   "types_to_exclude": [
    "module",
    "function",
    "builtin_function_or_method",
    "instance",
    "_Feature"
   ],
   "window_display": false
  }
 },
 "nbformat": 4,
 "nbformat_minor": 5
}
